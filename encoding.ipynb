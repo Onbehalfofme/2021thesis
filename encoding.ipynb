{
 "cells": [
  {
   "cell_type": "code",
   "execution_count": 16,
   "id": "grave-feeling",
   "metadata": {},
   "outputs": [
    {
     "name": "stdout",
     "output_type": "stream",
     "text": [
      "[]\n"
     ]
    }
   ],
   "source": [
    "import glob\n",
    "import os\n",
    "import numpy as np\n",
    "from bert_serving.client import BertClient\n",
    "bc = BertClient(check_length=False)\n",
    "for file in glob.glob('./**/*.txt', recursive=True):\n",
    "    with open(file, 'r') as f:\n",
    "        sentences = f.read().split('. ')\n",
    "        encoded_sentences = [bc.encode([s.replace('\\n', '')]) for s in sentences if len(s.split()) > 3]\n",
    "        with open('encoded/'+os.path.basename(file).split('.')[0]+'.npy', 'wb') as out:\n",
    "           np.save(out, encoded_sentences) \n",
    "        \n",
    " "
   ]
  }
 ],
 "metadata": {
  "kernelspec": {
   "display_name": "Python 3",
   "language": "python",
   "name": "python3"
  },
  "language_info": {
   "codemirror_mode": {
    "name": "ipython",
    "version": 3
   },
   "file_extension": ".py",
   "mimetype": "text/x-python",
   "name": "python",
   "nbconvert_exporter": "python",
   "pygments_lexer": "ipython3",
   "version": "3.7.9"
  }
 },
 "nbformat": 4,
 "nbformat_minor": 5
}
